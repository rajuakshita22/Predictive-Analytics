{
 "cells": [
  {
   "cell_type": "code",
   "execution_count": 1,
   "id": "c6ae5f98",
   "metadata": {},
   "outputs": [],
   "source": [
    "#Library\n",
    "import pandas as pd\n",
    "import numpy as np\n",
    "\n",
    "#data visualization\n",
    "import matplotlib.pyplot as plt\n",
    "import seaborn as sns\n",
    "\n",
    "#Machine Learning Modules\n",
    "import statsmodels.api as sm \n",
    "from sklearn import linear_model\n",
    "from sklearn.linear_model import LogisticRegression\n",
    "from sklearn import svm\n",
    "from sklearn.metrics import classification_report, confusion_matrix, accuracy_score\n",
    "from sklearn.model_selection import train_test_split\n",
    "from statsmodels.stats.outliers_influence import variance_inflation_factor\n",
    "\n",
    "from sklearn.preprocessing import LabelEncoder\n",
    "from sklearn.preprocessing import StandardScaler"
   ]
  },
  {
   "cell_type": "code",
   "execution_count": 2,
   "id": "335cee12",
   "metadata": {},
   "outputs": [],
   "source": [
    "#Reading data\n",
    "original_df = pd.read_excel('marketing_campaign.xlsx')"
   ]
  },
  {
   "cell_type": "code",
   "execution_count": null,
   "id": "309c1f2a",
   "metadata": {},
   "outputs": [],
   "source": [
    "columns_to_bedropped = ['AcceptedCmp3', 'AcceptedCmp4', 'AcceptedCmp5' , \n",
    "                        'AcceptedCmp1' , 'AcceptedCmp2', 'Z_CostContact','Z_Revenue']\n",
    "df = original_df.drop(columns_to_bedropped, axis=1)"
   ]
  },
  {
   "cell_type": "code",
   "execution_count": null,
   "id": "b949f0b7",
   "metadata": {},
   "outputs": [],
   "source": [
    "df.head()"
   ]
  },
  {
   "cell_type": "markdown",
   "id": "3d5f1f5c",
   "metadata": {},
   "source": [
    "# Data Cleaning "
   ]
  },
  {
   "cell_type": "code",
   "execution_count": null,
   "id": "b4032878",
   "metadata": {},
   "outputs": [],
   "source": [
    "df.head()"
   ]
  },
  {
   "cell_type": "code",
   "execution_count": null,
   "id": "ac3a27cd",
   "metadata": {},
   "outputs": [],
   "source": [
    "df.info()"
   ]
  },
  {
   "cell_type": "code",
   "execution_count": null,
   "id": "89337aa5",
   "metadata": {},
   "outputs": [],
   "source": [
    "df.isnull().sum()"
   ]
  },
  {
   "cell_type": "code",
   "execution_count": null,
   "id": "98e49ba2",
   "metadata": {},
   "outputs": [],
   "source": [
    "df.duplicated().sum()"
   ]
  },
  {
   "cell_type": "code",
   "execution_count": null,
   "id": "a8200ee7",
   "metadata": {},
   "outputs": [],
   "source": [
    "plt.hist(df['Income'])"
   ]
  },
  {
   "cell_type": "code",
   "execution_count": null,
   "id": "2fdddc34",
   "metadata": {},
   "outputs": [],
   "source": [
    "df['Income'].plot.box()"
   ]
  },
  {
   "cell_type": "code",
   "execution_count": null,
   "id": "19dacb9b",
   "metadata": {},
   "outputs": [],
   "source": [
    "df['Income']"
   ]
  },
  {
   "cell_type": "code",
   "execution_count": null,
   "id": "56338d03",
   "metadata": {},
   "outputs": [],
   "source": [
    "plt.figure(figsize=(20,20))\n",
    "sns.heatmap(df.corr(),annot=True)\n",
    "plt.title('Heatmap displaying the relationship between\\nthe features of the data',\n",
    "         fontsize=13)\n",
    "plt.show()"
   ]
  },
  {
   "cell_type": "code",
   "execution_count": null,
   "id": "ec199987",
   "metadata": {},
   "outputs": [],
   "source": [
    "df['Income'] = df['Income'].fillna(df['Income'].median())"
   ]
  },
  {
   "cell_type": "markdown",
   "id": "f615e980",
   "metadata": {},
   "source": [
    "#  Data Preprocessing"
   ]
  },
  {
   "cell_type": "code",
   "execution_count": null,
   "id": "86b7b2ee",
   "metadata": {},
   "outputs": [],
   "source": [
    "# Checking Unique values of married people\n",
    "df['Marital_Status'].value_counts()  "
   ]
  },
  {
   "cell_type": "code",
   "execution_count": null,
   "id": "53043f57",
   "metadata": {},
   "outputs": [],
   "source": [
    "df['Marital_Status'] = df['Marital_Status'].replace(['Married', 'Together'],'Committed')\n",
    "df['Marital_Status'] = df['Marital_Status'].replace(['Divorced', 'Widow', 'Alone', 'YOLO', 'Absurd'],'Single')"
   ]
  },
  {
   "cell_type": "code",
   "execution_count": null,
   "id": "d0b487a3",
   "metadata": {},
   "outputs": [],
   "source": [
    "df['Marital_Status'].value_counts()  "
   ]
  },
  {
   "cell_type": "code",
   "execution_count": null,
   "id": "b2bf4115",
   "metadata": {},
   "outputs": [],
   "source": [
    "# Checking Unique values of education\n",
    "df['Education'].value_counts()"
   ]
  },
  {
   "cell_type": "code",
   "execution_count": null,
   "id": "7eddad56",
   "metadata": {},
   "outputs": [],
   "source": [
    "#Reducing the number of categories\n",
    "df['Education'] = df['Education']. replace(['Master','PhD'],'Post Graduate')\n",
    "df['Education'] = df['Education'].replace(['Graduation','2n Cycle'], 'Under Graduate')"
   ]
  },
  {
   "cell_type": "code",
   "execution_count": null,
   "id": "c363df04",
   "metadata": {},
   "outputs": [],
   "source": [
    "df['Education'].value_counts()"
   ]
  },
  {
   "cell_type": "code",
   "execution_count": null,
   "id": "0ea3dec6",
   "metadata": {},
   "outputs": [],
   "source": [
    "df['Kids'] = df['Kidhome'] + df['Teenhome']\n",
    "df['Expenses'] = df['MntWines'] + df['MntFruits'] + df['MntMeatProducts'] + df['MntFishProducts'] + df['MntSweetProducts'] + df['MntGoldProds']\n",
    "df['NumTotalPurchases'] = df['NumWebPurchases'] + df['NumCatalogPurchases'] + df['NumStorePurchases'] + df['NumDealsPurchases']"
   ]
  },
  {
   "cell_type": "code",
   "execution_count": null,
   "id": "8ee71f55",
   "metadata": {},
   "outputs": [],
   "source": [
    "# Adding a column \"Age\" in the dataframe\n",
    "\n",
    "df['Age'] = 2023 - df[\"Year_Birth\"]"
   ]
  },
  {
   "cell_type": "code",
   "execution_count": null,
   "id": "0f55fe0e",
   "metadata": {},
   "outputs": [],
   "source": [
    "# Number of days a customer was engaged with company\n",
    "\n",
    "# Changing Dt_customer into timestamp format\n",
    "df['Dt_Customer'] = pd.to_datetime(df.Dt_Customer)\n",
    "df['first_day'] = '01-01-2023'\n",
    "df['first_day'] = pd.to_datetime(df.first_day)\n",
    "df['Days_engaged'] = (df['first_day'] - df['Dt_Customer']).dt.days"
   ]
  },
  {
   "cell_type": "code",
   "execution_count": null,
   "id": "64e2144a",
   "metadata": {},
   "outputs": [],
   "source": [
    "# Deleting some column to reduce dimension and complexity of model\n",
    "\n",
    "col_del = [\"ID\",\"Year_Birth\",\"Dt_Customer\",\"first_day\",\n",
    "           \"NumWebVisitsMonth\", \"NumWebPurchases\",\"NumCatalogPurchases\",\"NumStorePurchases\",\"NumDealsPurchases\" , \n",
    "           \"Kidhome\", \"Teenhome\",\n",
    "           \"MntWines\", \"MntFruits\", \"MntMeatProducts\", \"MntFishProducts\", \"MntSweetProducts\", \"MntGoldProds\"]\n",
    "df=df.drop(columns=col_del,axis=1)\n",
    "df.head()"
   ]
  },
  {
   "cell_type": "markdown",
   "id": "a6e6411d",
   "metadata": {},
   "source": [
    "# EDA"
   ]
  },
  {
   "cell_type": "code",
   "execution_count": null,
   "id": "7ca8157c",
   "metadata": {},
   "outputs": [],
   "source": [
    "# How many people responded?\n",
    "# Count the number of positive and negative responses\n",
    "positive_responses = df[df['Response'] == 1]['Response'].count()\n",
    "negative_responses = df[df['Response'] == 0]['Response'].count()\n",
    "\n",
    "# Create data for the pie chart\n",
    "responses = [positive_responses, negative_responses]\n",
    "labels = ['Positive Response', 'Negative Response']\n",
    "colors = ['green', 'red']\n",
    "\n",
    "# Create the pie chart\n",
    "plt.figure(figsize=(6, 6))\n",
    "plt.pie(responses, labels=labels, colors=colors, autopct='%1.1f%%', startangle=140)\n",
    "plt.title('Distribution of Responses')\n",
    "plt.axis('equal')  # Equal aspect ratio ensures that pie is drawn as a circle.\n",
    "\n",
    "# Show the pie chart\n",
    "plt.show()\n"
   ]
  },
  {
   "cell_type": "code",
   "execution_count": null,
   "id": "3bfce0e9",
   "metadata": {},
   "outputs": [],
   "source": [
    "# Education distribution of the population who responded and those who did not\n",
    "# Create a DataFrame for positive responses (Response=1) and negative responses (Response=0)\n",
    "positive_responses = df[df['Response'] == 1]\n",
    "negative_responses = df[df['Response'] == 0]\n",
    "\n",
    "# Calculate the education distribution for both groups\n",
    "education_distribution_positive = positive_responses['Education'].value_counts()\n",
    "education_distribution_negative = negative_responses['Education'].value_counts()\n",
    "\n",
    "# Get unique education levels for the x-axis\n",
    "education_levels = df['Education'].unique()\n",
    "\n",
    "# Create subplots for side-by-side comparison\n",
    "fig, (ax1, ax2) = plt.subplots(1, 2, figsize=(12, 5))\n",
    "\n",
    "# Bar chart for education distribution among positive responses\n",
    "ax1.bar(education_levels, education_distribution_positive[education_levels], color='green' )\n",
    "ax1.set_xlabel('Education Level')\n",
    "ax1.set_ylabel('Count')\n",
    "ax1.set_title('Education Distribution for Positive Responses')\n",
    "ax1.legend()\n",
    "\n",
    "# Bar chart for education distribution among negative responses\n",
    "ax2.bar(education_levels, education_distribution_negative[education_levels], color='red')\n",
    "ax2.set_xlabel('Education Level')\n",
    "ax2.set_ylabel('Count')\n",
    "ax2.set_title('Education Distribution for Negative Responses')\n",
    "ax2.legend()\n",
    "\n",
    "# Adjust layout\n",
    "plt.tight_layout()\n",
    "\n",
    "# Show the plots\n",
    "plt.show()"
   ]
  },
  {
   "cell_type": "code",
   "execution_count": null,
   "id": "b6feff68",
   "metadata": {},
   "outputs": [],
   "source": [
    "# Maritial Status distribution of the population who responded and those who did not\n",
    "\n",
    "# Calculate the marital status distribution for both groups\n",
    "marital_status_distribution_positive = positive_responses['Marital_Status'].value_counts()\n",
    "marital_status_distribution_negative = negative_responses['Marital_Status'].value_counts()\n",
    "\n",
    "# Get unique marital status categories for the x-axis\n",
    "marital_status_categories = df['Marital_Status'].unique()\n",
    "\n",
    "# Create subplots for side-by-side comparison\n",
    "fig, (ax1, ax2) = plt.subplots(1, 2, figsize=(12, 5))\n",
    "\n",
    "# Bar chart for marital status distribution among positive responses\n",
    "ax1.bar(marital_status_categories, marital_status_distribution_positive[marital_status_categories], color='green', label='Positive Response')\n",
    "ax1.set_xlabel('Marital Status')\n",
    "ax1.set_ylabel('Count')\n",
    "ax1.set_title('Marital Status Distribution for Positive Responses')\n",
    "ax1.legend()\n",
    "\n",
    "# Bar chart for marital status distribution among negative responses\n",
    "ax2.bar(marital_status_categories, marital_status_distribution_negative[marital_status_categories], color='red', label='Negative Response')\n",
    "ax2.set_xlabel('Marital Status')\n",
    "ax2.set_ylabel('Count')\n",
    "ax2.set_title('Marital Status Distribution for Negative Responses')\n",
    "ax2.legend()\n",
    "\n",
    "# Adjust layout\n",
    "plt.tight_layout()\n",
    "\n",
    "# Show the plots\n",
    "plt.show()"
   ]
  },
  {
   "cell_type": "code",
   "execution_count": null,
   "id": "3fac2cbf",
   "metadata": {},
   "outputs": [],
   "source": [
    "# Distribution of number of kids\n",
    "# Create subplots for side-by-side comparison\n",
    "plt.figure(figsize=(14, 6))\n",
    "\n",
    "# Subplot for positive responses\n",
    "plt.subplot(1, 2, 1)\n",
    "plt.hist(positive_responses['Kids'], bins=range(7), alpha=0.5, color='green', label='Positive Response')\n",
    "plt.xlabel('Number of Kids')\n",
    "plt.ylabel('Count')\n",
    "plt.title('Distribution of Number of Kids (Positive Responses)')\n",
    "plt.xticks(range(6))\n",
    "plt.legend()\n",
    "\n",
    "# Plot histograms for the number of kids for negative responses\n",
    "plt.subplot(1, 2, 2)\n",
    "plt.hist(negative_responses['Kids'], bins=range(7), alpha=0.5, color='red', label='Negative Response')\n",
    "plt.xlabel('Number of Kids')\n",
    "plt.ylabel('Count')\n",
    "plt.title('Distribution of Number of Kids (Negative Responses)')\n",
    "plt.xticks(range(6))\n",
    "plt.legend()\n",
    "\n",
    "# Adjust layout\n",
    "plt.tight_layout()\n",
    "\n",
    "# Show the histograms\n",
    "plt.show()"
   ]
  },
  {
   "cell_type": "code",
   "execution_count": null,
   "id": "c6747c47",
   "metadata": {},
   "outputs": [],
   "source": [
    "#Total expenses\n",
    "# Create subplots for side-by-side comparison\n",
    "plt.figure(figsize=(14, 6))\n",
    "\n",
    "# Subplot for positive responses\n",
    "plt.subplot(1, 2, 1)\n",
    "plt.hist(positive_responses['Expenses'], bins=20, color='green', alpha=0.7, label='Positive Response')\n",
    "plt.xlabel('Total Expenses')\n",
    "plt.ylabel('Count')\n",
    "plt.title('Distribution of Total Expenses (Positive Response)')\n",
    "plt.legend()\n",
    "plt.grid(True)\n",
    "\n",
    "# Subplot for negative responses\n",
    "plt.subplot(1, 2, 2)\n",
    "plt.hist(negative_responses['Expenses'], bins=20, color='red', alpha=0.7, label='Negative Response')\n",
    "plt.xlabel('Total Expenses')\n",
    "plt.ylabel('Count')\n",
    "plt.title('Distribution of Total Expenses (Negative Response)')\n",
    "plt.legend()\n",
    "plt.grid(True)\n",
    "\n",
    "# Adjust layout\n",
    "plt.tight_layout()\n",
    "\n",
    "# Show the subplots\n",
    "plt.show()"
   ]
  },
  {
   "cell_type": "code",
   "execution_count": null,
   "id": "82384bd1",
   "metadata": {},
   "outputs": [],
   "source": [
    "#Total Expenses\n",
    "# Create subplots for side-by-side comparison\n",
    "plt.figure(figsize=(14, 6))\n",
    "\n",
    "# Subplot for positive responses\n",
    "plt.subplot(1, 2, 1)\n",
    "plt.hist(positive_responses['NumTotalPurchases'], bins=20, color='green', alpha=0.7, label='Positive Response')\n",
    "plt.xlabel('Total Purchases')\n",
    "plt.ylabel('Count')\n",
    "plt.title('Distribution of Total Purchases (Positive Response)')\n",
    "plt.legend()\n",
    "plt.grid(True)\n",
    "\n",
    "# Subplot for negative responses\n",
    "plt.subplot(1, 2, 2)\n",
    "plt.hist(negative_responses['NumTotalPurchases'], bins=20, color='red', alpha=0.7, label='Negative Response')\n",
    "plt.xlabel('Total Purchases')\n",
    "plt.ylabel('Count')\n",
    "plt.title('Distribution of Total Purchases (Negative Response)')\n",
    "plt.legend()\n",
    "plt.grid(True)\n",
    "\n",
    "# Adjust layout\n",
    "plt.tight_layout()\n",
    "\n",
    "# Show the subplots\n",
    "plt.show()"
   ]
  },
  {
   "cell_type": "code",
   "execution_count": null,
   "id": "c58f8f98",
   "metadata": {},
   "outputs": [],
   "source": [
    "# Distribution of Age\n",
    "# Create subplots for side-by-side comparison\n",
    "plt.figure(figsize=(14, 6))\n",
    "\n",
    "# Subplot for positive responses\n",
    "plt.subplot(1, 2, 1)\n",
    "plt.hist(positive_responses['Age'], bins=20, color='green', alpha=0.7, label='Positive Response')\n",
    "plt.xlabel('Age')\n",
    "plt.ylabel('Count')\n",
    "plt.title('Distribution of Age (Positive Response)')\n",
    "plt.legend()\n",
    "plt.grid(True)\n",
    "\n",
    "# Subplot for negative responses\n",
    "plt.subplot(1, 2, 2)\n",
    "plt.hist(negative_responses['Age'], bins=20, color='red', alpha=0.7, label='Negative Response')\n",
    "plt.xlabel('Age')\n",
    "plt.ylabel('Count')\n",
    "plt.title('Distribution of Age (Negative Response)')\n",
    "plt.legend()\n",
    "plt.grid(True)\n",
    "\n",
    "# Adjust layout\n",
    "plt.tight_layout()\n",
    "\n",
    "# Show the subplots\n",
    "plt.show()"
   ]
  },
  {
   "cell_type": "code",
   "execution_count": null,
   "id": "7e891a9b",
   "metadata": {},
   "outputs": [],
   "source": [
    "# Number of days\n",
    "# Create subplots for side-by-side comparison\n",
    "plt.figure(figsize=(14, 6))\n",
    "\n",
    "# Subplot for positive responses\n",
    "plt.subplot(1, 2, 1)\n",
    "plt.hist(positive_responses['Days_engaged'], bins=20, color='green', alpha=0.7, label='Positive Response')\n",
    "plt.xlabel('Number of Days Engaged')\n",
    "plt.ylabel('Count')\n",
    "plt.title('Distribution of Days Engaged (Positive Response)')\n",
    "plt.legend()\n",
    "plt.grid(True)\n",
    "\n",
    "# Subplot for negative responses\n",
    "plt.subplot(1, 2, 2)\n",
    "plt.hist(negative_responses['Days_engaged'], bins=20, color='red', alpha=0.7, label='Negative Response')\n",
    "plt.xlabel('Number of Days Engaged')\n",
    "plt.ylabel('Count')\n",
    "plt.title('Distribution of Days Engaged (Negative Response)')\n",
    "plt.legend()\n",
    "plt.grid(True)\n",
    "\n",
    "# Adjust layout\n",
    "plt.tight_layout()\n",
    "\n",
    "# Show the subplots\n",
    "plt.show()\n"
   ]
  },
  {
   "cell_type": "markdown",
   "id": "06641d5c",
   "metadata": {},
   "source": [
    "# Label Encoding and Standardization"
   ]
  },
  {
   "cell_type": "code",
   "execution_count": null,
   "id": "a8fa8574",
   "metadata": {},
   "outputs": [],
   "source": [
    "# Initialising a list with object data types\n",
    "obj = []\n",
    "for i in df.columns:\n",
    "    if (df[i].dtypes == \"object\"):\n",
    "        obj.append(i)"
   ]
  },
  {
   "cell_type": "code",
   "execution_count": null,
   "id": "1c512ffe",
   "metadata": {},
   "outputs": [],
   "source": [
    "# Label encoding of object encoding\n",
    "lbl_encode = LabelEncoder()\n",
    "for i in obj:\n",
    "    df[i]=df[[i]].apply(lbl_encode.fit_transform)"
   ]
  },
  {
   "cell_type": "code",
   "execution_count": null,
   "id": "f6b035e3",
   "metadata": {},
   "outputs": [],
   "source": [
    "# Standardization\n",
    "scaled_features = StandardScaler().fit_transform(df.values)\n",
    "scaled_features_df = pd.DataFrame(scaled_features, index=df.index, columns=df.columns)"
   ]
  },
  {
   "cell_type": "markdown",
   "id": "9caf0161",
   "metadata": {},
   "source": [
    "# Test-Train dataset split "
   ]
  },
  {
   "cell_type": "code",
   "execution_count": null,
   "id": "dfde5c18",
   "metadata": {},
   "outputs": [],
   "source": [
    "y = df[['Response']]"
   ]
  },
  {
   "cell_type": "code",
   "execution_count": null,
   "id": "f6b939e7",
   "metadata": {},
   "outputs": [],
   "source": [
    "x = df.drop(columns=['Response'])"
   ]
  },
  {
   "cell_type": "code",
   "execution_count": null,
   "id": "4041ea3e",
   "metadata": {},
   "outputs": [],
   "source": [
    "x_train, x_test, y_train, y_test = train_test_split(x,y,test_size=0.2)"
   ]
  },
  {
   "cell_type": "markdown",
   "id": "70ea4fc7",
   "metadata": {},
   "source": [
    "# Logistic Regression"
   ]
  },
  {
   "cell_type": "code",
   "execution_count": null,
   "id": "ef512685",
   "metadata": {},
   "outputs": [],
   "source": [
    "logisticRegression_model = LogisticRegression(solver = 'liblinear', random_state=0).fit(x_train,y_train)"
   ]
  },
  {
   "cell_type": "code",
   "execution_count": null,
   "id": "17fa1d6f",
   "metadata": {},
   "outputs": [],
   "source": [
    "logisticRegression_model.score(x_train,y_train)"
   ]
  },
  {
   "cell_type": "code",
   "execution_count": null,
   "id": "85018ec0",
   "metadata": {},
   "outputs": [],
   "source": [
    "# Logistic regression using stats.api\n",
    "model = sm.Logit(y_train, x_train)\n",
    "result = model.fit()"
   ]
  },
  {
   "cell_type": "code",
   "execution_count": null,
   "id": "357ea850",
   "metadata": {},
   "outputs": [],
   "source": [
    "print(result.summary())"
   ]
  },
  {
   "cell_type": "code",
   "execution_count": null,
   "id": "1b4032e4",
   "metadata": {},
   "outputs": [],
   "source": [
    "logistic_regression_true_labels = y_test  # Replace with your true labels\n",
    "logistic_regression_predicted_labels = logisticRegression_model.predict(x_test)  # Replace with your predicted labels\n",
    "\n",
    "# Create a confusion matrix for Logistic Regression\n",
    "logistic_regression_conf_matrix = confusion_matrix(logistic_regression_true_labels, logistic_regression_predicted_labels)\n",
    "\n",
    "# Plot the confusion matrix for Logistic Regression as a heatmap\n",
    "plt.figure(figsize=(8, 6))\n",
    "sns.heatmap(logistic_regression_conf_matrix, annot=True, fmt='d',\n",
    "            xticklabels=['Predicted Negative', 'Predicted Positive'],\n",
    "            yticklabels=['Actual Negative', 'Actual Positive'])\n",
    "plt.xlabel('Predicted')\n",
    "plt.ylabel('Actual')\n",
    "plt.title('Confusion Matrix for Logistic Regression')\n",
    "plt.show()"
   ]
  },
  {
   "cell_type": "markdown",
   "id": "e35f1c14",
   "metadata": {},
   "source": [
    "# SVM model"
   ]
  },
  {
   "cell_type": "code",
   "execution_count": null,
   "id": "672ef1d4",
   "metadata": {},
   "outputs": [],
   "source": [
    "svm_model = svm.SVC(kernel='linear')\n",
    "svm_final = svm_model.fit(x_train,y_train)"
   ]
  },
  {
   "cell_type": "code",
   "execution_count": null,
   "id": "50db5ad7",
   "metadata": {},
   "outputs": [],
   "source": [
    "svm_final.score(x_train,y_train)"
   ]
  },
  {
   "cell_type": "code",
   "execution_count": null,
   "id": "d8f58f93",
   "metadata": {},
   "outputs": [],
   "source": [
    "svm_true_labels = y_test  # Replace with your true labels\n",
    "svm_predicted_labels = svm_final.predict(x_test)  # Replace with your predicted labels\n",
    "\n",
    "# Create a confusion matrix for SVM\n",
    "svm_conf_matrix = confusion_matrix(svm_true_labels, svm_predicted_labels)\n",
    "\n",
    "# Plot the confusion matrix for SVM as a heatmap\n",
    "plt.figure(figsize=(8, 6))\n",
    "sns.heatmap(svm_conf_matrix, annot=True, fmt='d', cmap='Blues',\n",
    "            xticklabels=['Predicted Negative', 'Predicted Positive'],\n",
    "            yticklabels=['Actual Negative', 'Actual Positive'])\n",
    "plt.xlabel('Predicted')\n",
    "plt.ylabel('Actual')\n",
    "plt.title('Confusion Matrix for SVM')\n",
    "plt.show()"
   ]
  }
 ],
 "metadata": {
  "kernelspec": {
   "display_name": "Python 3 (ipykernel)",
   "language": "python",
   "name": "python3"
  },
  "language_info": {
   "codemirror_mode": {
    "name": "ipython",
    "version": 3
   },
   "file_extension": ".py",
   "mimetype": "text/x-python",
   "name": "python",
   "nbconvert_exporter": "python",
   "pygments_lexer": "ipython3",
   "version": "3.11.3"
  }
 },
 "nbformat": 4,
 "nbformat_minor": 5
}
